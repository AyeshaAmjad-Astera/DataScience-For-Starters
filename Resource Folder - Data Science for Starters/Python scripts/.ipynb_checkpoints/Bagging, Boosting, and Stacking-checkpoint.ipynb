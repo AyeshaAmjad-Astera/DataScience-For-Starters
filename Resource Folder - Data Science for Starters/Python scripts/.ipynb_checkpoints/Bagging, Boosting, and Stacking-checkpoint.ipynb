{
 "cells": [
  {
   "cell_type": "code",
   "execution_count": 1,
   "metadata": {},
   "outputs": [
    {
     "name": "stderr",
     "output_type": "stream",
     "text": [
      "C:\\Users\\ayesha.amjad\\AppData\\Roaming\\Python\\Python37\\site-packages\\pandas\\compat\\_optional.py:138: UserWarning: Pandas requires version '2.7.0' or newer of 'numexpr' (version '2.6.9' currently installed).\n",
      "  warnings.warn(msg, UserWarning)\n"
     ]
    }
   ],
   "source": [
    "import pandas as pd   \n",
    "import matplotlib.pyplot as plt\n",
    "import time\n",
    "\n",
    "from sklearn.linear_model import LinearRegression, Lasso, Ridge\n",
    "from sklearn.tree import DecisionTreeRegressor \n",
    "from sklearn.ensemble import RandomForestRegressor, GradientBoostingRegressor\n",
    "from sklearn import tree\n",
    "from sklearn.neighbors import KNeighborsRegressor\n",
    "\n",
    "from sklearn.model_selection import train_test_split, RepeatedKFold, GridSearchCV, cross_val_score\n",
    "from sklearn.metrics import mean_squared_error, r2_score\n",
    "from sklearn.preprocessing import MinMaxScaler\n",
    "\n",
    "from sklearn.pipeline import Pipeline\n",
    "\n",
    "from numpy import mean\n",
    "\n",
    "import warnings \n",
    "warnings.filterwarnings('ignore')"
   ]
  },
  {
   "cell_type": "markdown",
   "metadata": {},
   "source": [
    "IMPORTING DATA"
   ]
  },
  {
   "cell_type": "code",
   "execution_count": 2,
   "metadata": {},
   "outputs": [],
   "source": [
    "df2 = pd.read_excel(r'C:\\Users\\ayesha.amjad\\OneDrive - Astera Software\\Data Science for Starters\\Resource Folder - Data Science for Starters\\Datasets for HandsOn\\ToyotaCorolla.xls')\n",
    "df2 = df2.loc[:, df2.columns != 'Id']\n",
    "df = df2[['Price', 'Age_08_04', 'KM', 'Quarterly_Tax', 'Mfr_Guarantee', 'BOVAG_Guarantee', \n",
    "          'ABS','Airco', 'Metallic_Rim','Fuel_Type','Color']]\n",
    "X2 = df.loc[:, df.columns != 'Price']\n",
    "y = df[['Price']]\n",
    "X = pd.get_dummies(X2)\n",
    "X_train, X_test, y_train, y_test = train_test_split(X, y, test_size = 0.3)"
   ]
  },
  {
   "cell_type": "markdown",
   "metadata": {},
   "source": [
    "FIT & COMPARE MULTIPLE MODELS AT ONCE"
   ]
  },
  {
   "cell_type": "code",
   "execution_count": 3,
   "metadata": {},
   "outputs": [],
   "source": [
    "def fitting_models_CV2():\n",
    "    cv = RepeatedKFold(n_splits=10, n_repeats=1)#, random_state=1)\n",
    "    \n",
    "    lr=LinearRegression()\n",
    "    ls = Lasso(alpha=10.5)\n",
    "    rg = Ridge(alpha=1.5)\n",
    "    gbr = GradientBoostingRegressor() # we can specify loss as huber as one of the parameters.\n",
    "    knr = KNeighborsRegressor(n_neighbors=5)\n",
    "    pipe_knr = Pipeline([(\"scaler\", MinMaxScaler()), \n",
    "                         (\"knr\", KNeighborsRegressor(n_neighbors=5))])\n",
    "    rgs = [('Linear Regression', lr),\n",
    "        ('Lasso Regression', ls),\n",
    "        ('Gradient Boosting', gbr),   \n",
    "        ('KNearest Neighbor',knr),\n",
    "        ('Scaled KNearest',pipe_knr)       \n",
    "    ]\n",
    "    for name,rg in rgs:\n",
    "        start = time.perf_counter()\n",
    "        scores = cross_val_score(rg, X, y, cv=cv) \n",
    "        end = time.perf_counter()        \n",
    "        score = format(mean(scores), '.4f')\n",
    "        duration = format((end-start),'.4f')\n",
    "        print(\"{} : {} - {}\".format(name,score,duration))"
   ]
  },
  {
   "cell_type": "code",
   "execution_count": 4,
   "metadata": {},
   "outputs": [
    {
     "name": "stdout",
     "output_type": "stream",
     "text": [
      "Linear Regression : 0.8224 - 0.0652\n",
      "Lasso Regression : 0.8236 - 0.0526\n",
      "Gradient Boosting : 0.8946 - 1.1096\n",
      "KNearest Neighbor : 0.4205 - 0.0688\n",
      "Scaled KNearest : 0.6998 - 0.0890\n"
     ]
    }
   ],
   "source": [
    "fitting_models_CV2()"
   ]
  },
  {
   "cell_type": "code",
   "execution_count": 5,
   "metadata": {},
   "outputs": [],
   "source": [
    "from sklearn.ensemble import BaggingRegressor\n",
    "from sklearn.ensemble import VotingRegressor\n",
    "from sklearn.ensemble import StackingRegressor"
   ]
  },
  {
   "cell_type": "markdown",
   "metadata": {},
   "source": [
    "BAGGING ALGORITHM"
   ]
  },
  {
   "cell_type": "code",
   "execution_count": 6,
   "metadata": {},
   "outputs": [
    {
     "name": "stdout",
     "output_type": "stream",
     "text": [
      "0.8246\n"
     ]
    }
   ],
   "source": [
    "cv = RepeatedKFold(n_splits=10, n_repeats=1)#, random_state=1)\n",
    "reg_bg = BaggingRegressor(base_estimator=Ridge(1),\n",
    "                        n_estimators=20, random_state=0)\n",
    "scores = cross_val_score(reg_bg, X, y, cv=cv)\n",
    "score = format(mean(scores), '.4f')\n",
    "print(score)"
   ]
  },
  {
   "cell_type": "markdown",
   "metadata": {},
   "source": [
    "VOTING ALGORITHM"
   ]
  },
  {
   "cell_type": "code",
   "execution_count": 7,
   "metadata": {},
   "outputs": [
    {
     "name": "stdout",
     "output_type": "stream",
     "text": [
      "0.8668\n"
     ]
    }
   ],
   "source": [
    "r1 = LinearRegression()\n",
    "r2 =  GradientBoostingRegressor()\n",
    "r3 = Pipeline([(\"scaler\", MinMaxScaler()), \n",
    "                         (\"knr\", KNeighborsRegressor(n_neighbors=5))])\n",
    "\n",
    "reg_vr = VotingRegressor([('lr', r1), ('gb', r2),('knn', r3)])\n",
    "scores = cross_val_score(reg_vr, X, y, cv=cv)\n",
    "score = format(mean(scores), '.4f')\n",
    "print(score)"
   ]
  },
  {
   "cell_type": "markdown",
   "metadata": {},
   "source": [
    "STACKING ALGORITHM"
   ]
  },
  {
   "cell_type": "code",
   "execution_count": 12,
   "metadata": {},
   "outputs": [
    {
     "name": "stdout",
     "output_type": "stream",
     "text": [
      "0.5853\n"
     ]
    }
   ],
   "source": [
    "estimators = [\n",
    "('lr', LinearRegression()),\n",
    "('gb', GradientBoostingRegressor()),\n",
    "('knn', Pipeline([(\"scaler\", MinMaxScaler()), \n",
    "                         (\"knr\", KNeighborsRegressor(n_neighbors=5))]))\n",
    "]\n",
    "\n",
    "reg_sr = StackingRegressor(estimators=estimators, final_estimator=RandomForestRegressor(n_estimators=100,random_state=42))\n",
    "scores = cross_val_score(reg_sr, X, y, cv=cv)\n",
    "score = format(mean(scores), '.4f')\n",
    "print(score)"
   ]
  },
  {
   "cell_type": "code",
   "execution_count": null,
   "metadata": {},
   "outputs": [],
   "source": []
  },
  {
   "cell_type": "code",
   "execution_count": null,
   "metadata": {},
   "outputs": [],
   "source": []
  },
  {
   "cell_type": "code",
   "execution_count": null,
   "metadata": {},
   "outputs": [],
   "source": []
  }
 ],
 "metadata": {
  "kernelspec": {
   "display_name": "Python 3",
   "language": "python",
   "name": "python3"
  },
  "language_info": {
   "codemirror_mode": {
    "name": "ipython",
    "version": 3
   },
   "file_extension": ".py",
   "mimetype": "text/x-python",
   "name": "python",
   "nbconvert_exporter": "python",
   "pygments_lexer": "ipython3",
   "version": "3.7.3"
  },
  "vscode": {
   "interpreter": {
    "hash": "5e9236c168fd9c5a2497735f30867c8b2a4981b493523b82ffb7e802a066bea3"
   }
  }
 },
 "nbformat": 4,
 "nbformat_minor": 2
}
